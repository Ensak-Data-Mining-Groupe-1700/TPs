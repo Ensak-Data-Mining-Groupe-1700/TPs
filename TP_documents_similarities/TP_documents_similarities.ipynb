{
 "cells": [
  {
   "cell_type": "code",
   "execution_count": 84,
   "metadata": {},
   "outputs": [
    {
     "name": "stderr",
     "output_type": "stream",
     "text": [
      "[nltk_data] Downloading package stopwords to\n",
      "[nltk_data]     C:\\Users\\tariq\\AppData\\Roaming\\nltk_data...\n",
      "[nltk_data]   Package stopwords is already up-to-date!\n"
     ]
    }
   ],
   "source": [
    "import numpy as np\n",
    "import pandas as pd\n",
    "from sklearn.feature_extraction.text import CountVectorizer\n",
    "from sklearn.metrics.pairwise import cosine_similarity\n",
    "from scipy.spatial.distance import euclidean\n",
    "from scipy.stats import pearsonr\n",
    "from sklearn.metrics import jaccard_score\n",
    "from collections import Counter\n",
    "from scipy.spatial.distance import dice\n",
    "import nltk\n",
    "import re\n",
    "nltk.download('stopwords')   # For stopwords\n",
    "from nltk.corpus import stopwords\n",
    "from nltk.stem import WordNetLemmatizer\n",
    "from nltk.tokenize import word_tokenize\n",
    "from sklearn.feature_extraction.text import TfidfVectorizer"
   ]
  },
  {
   "cell_type": "code",
   "execution_count": 85,
   "metadata": {},
   "outputs": [],
   "source": [
    "# Synopses\n",
    "synopsis1 = \"Based on true events, this film follows the investigation of the Zodiac killer, a serial murderer who mocks the police with cryptic messages. The story focuses on a cartoonist, a journalist, and detectives as they strive to reveal the killer's identity.\"\n",
    "synopsis2 = \"Two detectives, a novice and a seasoned veteran, pursue a serial killer who uses the seven deadly sins as his signature. The narrative centers on their efforts to uncover the murderer's identity, exploring themes of morality, justice, and the human condition.\"\n",
    "synopsis3 = \"A sequel to the original 'Blade Runner,' this film is set in a dystopian future where bioengineered humans, known as replicants, are used for various purposes. A young blade runner, K, uncovers a long-buried secret that leads him on a quest to find former blade runner Rick Deckard, who has been missing for thirty years.\""
   ]
  },
  {
   "cell_type": "code",
   "execution_count": 86,
   "metadata": {},
   "outputs": [],
   "source": [
    "# Preprocessing\n",
    "synopses = [synopsis1, synopsis2, synopsis3]\n",
    "\n",
    "# Load stopwords\n",
    "stop_words = set(stopwords.words('english'))\n",
    "\n",
    "# Initializers for Stemmer and Lemmatizer\n",
    "lemmatizer = WordNetLemmatizer()\n",
    "\n",
    "def clean_comment(text):\n",
    "    if pd.isna(text):\n",
    "        return text\n",
    "    # Lowercase normalization\n",
    "    text = text.lower()\n",
    "    # Remove URLstk\n",
    "    # Remove punctuation and non-ASCII\n",
    "    text = re.sub(r'[^\\w\\s]', '', text)\n",
    "    # Remove numbers\n",
    "    text = re.sub(r'\\d+', '', text)\n",
    "    # Tokenization\n",
    "    tokens = word_tokenize(text)\n",
    "    # Remove stopwords and perform /lemmatization\n",
    "    cleaned_tokens = [lemmatizer.lemmatize(word) for word in tokens if word not in stop_words]\n",
    "    # Rejoin words into one string\n",
    "    return ' '.join(cleaned_tokens)"
   ]
  },
  {
   "cell_type": "code",
   "execution_count": 87,
   "metadata": {},
   "outputs": [
    {
     "data": {
      "text/plain": [
       "[\"Based on true events, this film follows the investigation of the Zodiac killer, a serial murderer who mocks the police with cryptic messages. The story focuses on a cartoonist, a journalist, and detectives as they strive to reveal the killer's identity.\",\n",
       " \"Two detectives, a novice and a seasoned veteran, pursue a serial killer who uses the seven deadly sins as his signature. The narrative centers on their efforts to uncover the murderer's identity, exploring themes of morality, justice, and the human condition.\",\n",
       " \"A sequel to the original 'Blade Runner,' this film is set in a dystopian future where bioengineered humans, known as replicants, are used for various purposes. A young blade runner, K, uncovers a long-buried secret that leads him on a quest to find former blade runner Rick Deckard, who has been missing for thirty years.\"]"
      ]
     },
     "execution_count": 87,
     "metadata": {},
     "output_type": "execute_result"
    }
   ],
   "source": [
    "synopses"
   ]
  },
  {
   "cell_type": "code",
   "execution_count": 88,
   "metadata": {},
   "outputs": [],
   "source": [
    "synopses = [clean_comment(synopsis) for synopsis in synopses]"
   ]
  },
  {
   "cell_type": "code",
   "execution_count": 89,
   "metadata": {},
   "outputs": [
    {
     "data": {
      "text/plain": [
       "['based true event film follows investigation zodiac killer serial murderer mock police cryptic message story focus cartoonist journalist detective strive reveal killer identity',\n",
       " 'two detective novice seasoned veteran pursue serial killer us seven deadly sin signature narrative center effort uncover murderer identity exploring theme morality justice human condition',\n",
       " 'sequel original blade runner film set dystopian future bioengineered human known replicants used various purpose young blade runner k uncovers longburied secret lead quest find former blade runner rick deckard missing thirty year']"
      ]
     },
     "execution_count": 89,
     "metadata": {},
     "output_type": "execute_result"
    }
   ],
   "source": [
    "synopses"
   ]
  },
  {
   "cell_type": "code",
   "execution_count": 90,
   "metadata": {},
   "outputs": [],
   "source": [
    "# Vectorize the synopses using TF-IDF\n",
    "tfidf_vectorizer = TfidfVectorizer()\n",
    "tfidf_matrix = tfidf_vectorizer.fit_transform(synopses).toarray()"
   ]
  },
  {
   "cell_type": "code",
   "execution_count": 91,
   "metadata": {},
   "outputs": [],
   "source": [
    "# Cosine Similarity\n",
    "cosine_sim = cosine_similarity(tfidf_matrix)\n",
    "cosine_df = pd.DataFrame(cosine_sim, index=[\"Zodiac\", \"Se7en\", \"Blade Runner 2049\"], columns=[\"Zodiac\", \"Se7en\", \"Blade Runner 2049\"])"
   ]
  },
  {
   "cell_type": "code",
   "execution_count": 92,
   "metadata": {},
   "outputs": [],
   "source": [
    "# Euclidean Distance\n",
    "euclidean_dist = (euclidean(tfidf_matrix[0], tfidf_matrix[1]), \n",
    "                  euclidean(tfidf_matrix[0], tfidf_matrix[2]), \n",
    "                  euclidean(tfidf_matrix[1], tfidf_matrix[2]))"
   ]
  },
  {
   "cell_type": "code",
   "execution_count": 93,
   "metadata": {},
   "outputs": [],
   "source": [
    "# Pearson Correlation\n",
    "pearson_corr_1_2, _ = pearsonr(tfidf_matrix[0], tfidf_matrix[1])\n",
    "pearson_corr_1_3, _ = pearsonr(tfidf_matrix[0], tfidf_matrix[2])\n",
    "pearson_corr_2_3, _ = pearsonr(tfidf_matrix[1], tfidf_matrix[2])\n",
    "pearson_corr = (pearson_corr_1_2, pearson_corr_1_3, pearson_corr_2_3)"
   ]
  },
  {
   "cell_type": "code",
   "execution_count": 94,
   "metadata": {},
   "outputs": [],
   "source": [
    "# Dice Coefficient\n",
    "dice_coeff_1_2 = 1 - dice(tfidf_matrix[0], tfidf_matrix[1])\n",
    "dice_coeff_1_3 = 1 - dice(tfidf_matrix[0], tfidf_matrix[2])\n",
    "dice_coeff_2_3 = 1 - dice(tfidf_matrix[1], tfidf_matrix[2])\n",
    "dice_coeff = (dice_coeff_1_2, dice_coeff_1_3, dice_coeff_2_3)"
   ]
  },
  {
   "cell_type": "code",
   "execution_count": 95,
   "metadata": {},
   "outputs": [],
   "source": [
    "# Jaccard Similarity\n",
    "jaccard_sim_1_2 = jaccard_score(tfidf_matrix[0] > 0, tfidf_matrix[1] > 0, average='macro')\n",
    "jaccard_sim_1_3 = jaccard_score(tfidf_matrix[0] > 0, tfidf_matrix[2] > 0, average='macro')\n",
    "jaccard_sim_2_3 = jaccard_score(tfidf_matrix[1] > 0, tfidf_matrix[2] > 0, average='macro')\n",
    "jaccard_sim = (jaccard_sim_1_2, jaccard_sim_1_3, jaccard_sim_2_3)\n"
   ]
  },
  {
   "cell_type": "code",
   "execution_count": 96,
   "metadata": {},
   "outputs": [
    {
     "data": {
      "text/html": [
       "<div>\n",
       "<style scoped>\n",
       "    .dataframe tbody tr th:only-of-type {\n",
       "        vertical-align: middle;\n",
       "    }\n",
       "\n",
       "    .dataframe tbody tr th {\n",
       "        vertical-align: top;\n",
       "    }\n",
       "\n",
       "    .dataframe thead th {\n",
       "        text-align: right;\n",
       "    }\n",
       "</style>\n",
       "<table border=\"1\" class=\"dataframe\">\n",
       "  <thead>\n",
       "    <tr style=\"text-align: right;\">\n",
       "      <th></th>\n",
       "      <th>Metric</th>\n",
       "      <th>Zodiac vs Se7en</th>\n",
       "      <th>Zodiac vs Blade Runner 2049</th>\n",
       "      <th>Se7en vs Blade Runner 2049</th>\n",
       "    </tr>\n",
       "  </thead>\n",
       "  <tbody>\n",
       "    <tr>\n",
       "      <th>0</th>\n",
       "      <td>Cosine Similarity</td>\n",
       "      <td>0.158982</td>\n",
       "      <td>0.019120</td>\n",
       "      <td>0.018574</td>\n",
       "    </tr>\n",
       "    <tr>\n",
       "      <th>1</th>\n",
       "      <td>Euclidean Distance</td>\n",
       "      <td>1.296933</td>\n",
       "      <td>1.400629</td>\n",
       "      <td>1.401018</td>\n",
       "    </tr>\n",
       "    <tr>\n",
       "      <th>2</th>\n",
       "      <td>Pearson Correlation</td>\n",
       "      <td>-0.271905</td>\n",
       "      <td>-0.457123</td>\n",
       "      <td>-0.511892</td>\n",
       "    </tr>\n",
       "    <tr>\n",
       "      <th>3</th>\n",
       "      <td>Jaccard Similarity</td>\n",
       "      <td>0.265873</td>\n",
       "      <td>0.151995</td>\n",
       "      <td>0.129018</td>\n",
       "    </tr>\n",
       "    <tr>\n",
       "      <th>4</th>\n",
       "      <td>Dice Coefficient</td>\n",
       "      <td>0.033116</td>\n",
       "      <td>0.004056</td>\n",
       "      <td>0.003803</td>\n",
       "    </tr>\n",
       "  </tbody>\n",
       "</table>\n",
       "</div>"
      ],
      "text/plain": [
       "                Metric  Zodiac vs Se7en  Zodiac vs Blade Runner 2049  \\\n",
       "0    Cosine Similarity         0.158982                     0.019120   \n",
       "1   Euclidean Distance         1.296933                     1.400629   \n",
       "2  Pearson Correlation        -0.271905                    -0.457123   \n",
       "3   Jaccard Similarity         0.265873                     0.151995   \n",
       "4     Dice Coefficient         0.033116                     0.004056   \n",
       "\n",
       "   Se7en vs Blade Runner 2049  \n",
       "0                    0.018574  \n",
       "1                    1.401018  \n",
       "2                   -0.511892  \n",
       "3                    0.129018  \n",
       "4                    0.003803  "
      ]
     },
     "execution_count": 96,
     "metadata": {},
     "output_type": "execute_result"
    }
   ],
   "source": [
    "# Display results\n",
    "results = {\n",
    "    \"Metric\": [\"Cosine Similarity\", \"Euclidean Distance\", \"Pearson Correlation\", \"Jaccard Similarity\", \"Dice Coefficient\"],\n",
    "    \"Zodiac vs Se7en\": [cosine_df.at[\"Zodiac\", \"Se7en\"], euclidean_dist[0], pearson_corr[0], jaccard_sim[0], dice_coeff[0]],\n",
    "    \"Zodiac vs Blade Runner 2049\": [cosine_df.at[\"Zodiac\", \"Blade Runner 2049\"], euclidean_dist[1], pearson_corr[1], jaccard_sim[1], dice_coeff[1]],\n",
    "    \"Se7en vs Blade Runner 2049\": [cosine_df.at[\"Se7en\", \"Blade Runner 2049\"], euclidean_dist[2], pearson_corr[2], jaccard_sim[2], dice_coeff[2]]\n",
    "}\n",
    "\n",
    "results_df = pd.DataFrame(results)\n",
    "\n",
    "results_df"
   ]
  }
 ],
 "metadata": {
  "kernelspec": {
   "display_name": "Python 3",
   "language": "python",
   "name": "python3"
  },
  "language_info": {
   "codemirror_mode": {
    "name": "ipython",
    "version": 3
   },
   "file_extension": ".py",
   "mimetype": "text/x-python",
   "name": "python",
   "nbconvert_exporter": "python",
   "pygments_lexer": "ipython3",
   "version": "3.11.5"
  }
 },
 "nbformat": 4,
 "nbformat_minor": 2
}
