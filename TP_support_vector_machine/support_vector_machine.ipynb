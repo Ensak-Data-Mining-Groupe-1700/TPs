{
 "cells": [
  {
   "cell_type": "markdown",
   "metadata": {},
   "source": [
    "## Prédiction de Comportements d'Achat avec SVM\n",
    "\n",
    "Ce notebook explore l'utilisation des Machines à Vecteurs de Support (SVM) pour prédire les comportements d'achat des utilisateurs d'un réseau social, en se basant sur des données telles que l'âge et le salaire estimé. Le projet suit plusieurs étapes clés :\n",
    "\n",
    "- **Chargement et Exploration des Données** : Introduction au jeu de données \"Social_Network_Ads.csv\".\n",
    "- **Prétraitement** : Nettoyage des données et normalisation.\n",
    "- **Modélisation avec SVM** : Construction et entraînement d'un modèle SVM linéaire.\n",
    "- **Évaluation du Modèle** : Analyse des performances à l'aide de la matrice de confusion et de l'exactitude.\n",
    "\n",
    "## Objectif\n",
    "Fournir un aperçu de l'efficacité des SVM pour classer les comportements d'achat basés sur des caractéristiques utilisateur simples, en passant par les étapes de préparation des données jusqu'à l'évaluation du modèle.\n",
    "\n"
   ]
  },
  {
   "cell_type": "markdown",
   "metadata": {},
   "source": [
    "### importations des librairies:"
   ]
  },
  {
   "cell_type": "code",
   "execution_count": 1,
   "metadata": {
    "colab": {},
    "colab_type": "code",
    "id": "YvGPUQaHhXfL"
   },
   "outputs": [],
   "source": [
    "import numpy as np\n",
    "import matplotlib.pyplot as plt\n",
    "from sklearn.metrics import confusion_matrix, accuracy_score,classification_report,ConfusionMatrixDisplay\n",
    "from sklearn.preprocessing import StandardScaler\n",
    "from sklearn.model_selection import train_test_split\n",
    "import seaborn as sns\n",
    "import pandas as pd"
   ]
  },
  {
   "cell_type": "markdown",
   "metadata": {
    "colab_type": "text",
    "id": "K1VMqkGvhc3-"
   },
   "source": [
    "### Chargement des données : Récupération des données depuis le fichier 'Social_Network_Ads.csv'."
   ]
  },
  {
   "cell_type": "code",
   "execution_count": 2,
   "metadata": {
    "colab": {},
    "colab_type": "code",
    "id": "M52QDmyzhh9s"
   },
   "outputs": [
    {
     "data": {
      "text/html": [
       "<div>\n",
       "<style scoped>\n",
       "    .dataframe tbody tr th:only-of-type {\n",
       "        vertical-align: middle;\n",
       "    }\n",
       "\n",
       "    .dataframe tbody tr th {\n",
       "        vertical-align: top;\n",
       "    }\n",
       "\n",
       "    .dataframe thead th {\n",
       "        text-align: right;\n",
       "    }\n",
       "</style>\n",
       "<table border=\"1\" class=\"dataframe\">\n",
       "  <thead>\n",
       "    <tr style=\"text-align: right;\">\n",
       "      <th></th>\n",
       "      <th>Age</th>\n",
       "      <th>EstimatedSalary</th>\n",
       "      <th>Purchased</th>\n",
       "    </tr>\n",
       "  </thead>\n",
       "  <tbody>\n",
       "    <tr>\n",
       "      <th>0</th>\n",
       "      <td>19</td>\n",
       "      <td>19000</td>\n",
       "      <td>0</td>\n",
       "    </tr>\n",
       "    <tr>\n",
       "      <th>1</th>\n",
       "      <td>35</td>\n",
       "      <td>20000</td>\n",
       "      <td>0</td>\n",
       "    </tr>\n",
       "    <tr>\n",
       "      <th>2</th>\n",
       "      <td>26</td>\n",
       "      <td>43000</td>\n",
       "      <td>0</td>\n",
       "    </tr>\n",
       "    <tr>\n",
       "      <th>3</th>\n",
       "      <td>27</td>\n",
       "      <td>57000</td>\n",
       "      <td>0</td>\n",
       "    </tr>\n",
       "    <tr>\n",
       "      <th>4</th>\n",
       "      <td>19</td>\n",
       "      <td>76000</td>\n",
       "      <td>0</td>\n",
       "    </tr>\n",
       "    <tr>\n",
       "      <th>5</th>\n",
       "      <td>27</td>\n",
       "      <td>58000</td>\n",
       "      <td>0</td>\n",
       "    </tr>\n",
       "    <tr>\n",
       "      <th>6</th>\n",
       "      <td>27</td>\n",
       "      <td>84000</td>\n",
       "      <td>0</td>\n",
       "    </tr>\n",
       "    <tr>\n",
       "      <th>7</th>\n",
       "      <td>32</td>\n",
       "      <td>150000</td>\n",
       "      <td>1</td>\n",
       "    </tr>\n",
       "    <tr>\n",
       "      <th>8</th>\n",
       "      <td>25</td>\n",
       "      <td>33000</td>\n",
       "      <td>0</td>\n",
       "    </tr>\n",
       "    <tr>\n",
       "      <th>9</th>\n",
       "      <td>35</td>\n",
       "      <td>65000</td>\n",
       "      <td>0</td>\n",
       "    </tr>\n",
       "  </tbody>\n",
       "</table>\n",
       "</div>"
      ],
      "text/plain": [
       "   Age  EstimatedSalary  Purchased\n",
       "0   19            19000          0\n",
       "1   35            20000          0\n",
       "2   26            43000          0\n",
       "3   27            57000          0\n",
       "4   19            76000          0\n",
       "5   27            58000          0\n",
       "6   27            84000          0\n",
       "7   32           150000          1\n",
       "8   25            33000          0\n",
       "9   35            65000          0"
      ]
     },
     "execution_count": 2,
     "metadata": {},
     "output_type": "execute_result"
    }
   ],
   "source": [
    "df = pd.read_csv('Social_Network_Ads.csv')\n",
    "df.head(10)"
   ]
  },
  {
   "cell_type": "markdown",
   "metadata": {},
   "source": [
    "### Aperçu du Dataset\n",
    "\n",
    "Avant d'analyser le dataset, nous allons obtenir un aperçu de base de la structure et des caractéristiques des données. Les fonctions suivantes de Pandas seront utilisées pour cet aperçu :\n",
    "\n",
    "- `df.shape` : Cette fonction retourne les dimensions du DataFrame, nous fournissant le nombre de lignes et de colonnes.\n",
    "\n",
    "- `df.info()` : Cette méthode affiche un résumé concis du DataFrame, y compris le type de données de chaque colonne, le nombre de valeurs non-nulles et l'utilisation de la mémoire. C'est un bon moyen pour obtenir un aperçu des types de données et des valeurs manquantes.\n",
    "\n",
    "- `df.describe(include='all')` : Cette fonction fournit un résumé statistique des caractéristiques numériques et catégorielles. Cela inclut des informations telles que le nombre de valeurs, la moyenne, l'écart type, les valeurs minimales et maximales, ainsi que les quantiles pour les données numériques. L'argument `include='all'` permet d'inclure également les statistiques descriptives pour les colonnes catégorielles.\n"
   ]
  },
  {
   "cell_type": "code",
   "execution_count": 3,
   "metadata": {},
   "outputs": [
    {
     "data": {
      "text/plain": [
       "(400, 3)"
      ]
     },
     "execution_count": 3,
     "metadata": {},
     "output_type": "execute_result"
    }
   ],
   "source": [
    "df.shape"
   ]
  },
  {
   "cell_type": "code",
   "execution_count": 4,
   "metadata": {},
   "outputs": [
    {
     "name": "stdout",
     "output_type": "stream",
     "text": [
      "<class 'pandas.core.frame.DataFrame'>\n",
      "RangeIndex: 400 entries, 0 to 399\n",
      "Data columns (total 3 columns):\n",
      " #   Column           Non-Null Count  Dtype\n",
      "---  ------           --------------  -----\n",
      " 0   Age              400 non-null    int64\n",
      " 1   EstimatedSalary  400 non-null    int64\n",
      " 2   Purchased        400 non-null    int64\n",
      "dtypes: int64(3)\n",
      "memory usage: 9.5 KB\n"
     ]
    }
   ],
   "source": [
    "df.info()"
   ]
  },
  {
   "cell_type": "code",
   "execution_count": 5,
   "metadata": {},
   "outputs": [
    {
     "data": {
      "text/html": [
       "<div>\n",
       "<style scoped>\n",
       "    .dataframe tbody tr th:only-of-type {\n",
       "        vertical-align: middle;\n",
       "    }\n",
       "\n",
       "    .dataframe tbody tr th {\n",
       "        vertical-align: top;\n",
       "    }\n",
       "\n",
       "    .dataframe thead th {\n",
       "        text-align: right;\n",
       "    }\n",
       "</style>\n",
       "<table border=\"1\" class=\"dataframe\">\n",
       "  <thead>\n",
       "    <tr style=\"text-align: right;\">\n",
       "      <th></th>\n",
       "      <th>Age</th>\n",
       "      <th>EstimatedSalary</th>\n",
       "      <th>Purchased</th>\n",
       "    </tr>\n",
       "  </thead>\n",
       "  <tbody>\n",
       "    <tr>\n",
       "      <th>count</th>\n",
       "      <td>400.000000</td>\n",
       "      <td>400.000000</td>\n",
       "      <td>400.000000</td>\n",
       "    </tr>\n",
       "    <tr>\n",
       "      <th>mean</th>\n",
       "      <td>37.655000</td>\n",
       "      <td>69742.500000</td>\n",
       "      <td>0.357500</td>\n",
       "    </tr>\n",
       "    <tr>\n",
       "      <th>std</th>\n",
       "      <td>10.482877</td>\n",
       "      <td>34096.960282</td>\n",
       "      <td>0.479864</td>\n",
       "    </tr>\n",
       "    <tr>\n",
       "      <th>min</th>\n",
       "      <td>18.000000</td>\n",
       "      <td>15000.000000</td>\n",
       "      <td>0.000000</td>\n",
       "    </tr>\n",
       "    <tr>\n",
       "      <th>25%</th>\n",
       "      <td>29.750000</td>\n",
       "      <td>43000.000000</td>\n",
       "      <td>0.000000</td>\n",
       "    </tr>\n",
       "    <tr>\n",
       "      <th>50%</th>\n",
       "      <td>37.000000</td>\n",
       "      <td>70000.000000</td>\n",
       "      <td>0.000000</td>\n",
       "    </tr>\n",
       "    <tr>\n",
       "      <th>75%</th>\n",
       "      <td>46.000000</td>\n",
       "      <td>88000.000000</td>\n",
       "      <td>1.000000</td>\n",
       "    </tr>\n",
       "    <tr>\n",
       "      <th>max</th>\n",
       "      <td>60.000000</td>\n",
       "      <td>150000.000000</td>\n",
       "      <td>1.000000</td>\n",
       "    </tr>\n",
       "  </tbody>\n",
       "</table>\n",
       "</div>"
      ],
      "text/plain": [
       "              Age  EstimatedSalary   Purchased\n",
       "count  400.000000       400.000000  400.000000\n",
       "mean    37.655000     69742.500000    0.357500\n",
       "std     10.482877     34096.960282    0.479864\n",
       "min     18.000000     15000.000000    0.000000\n",
       "25%     29.750000     43000.000000    0.000000\n",
       "50%     37.000000     70000.000000    0.000000\n",
       "75%     46.000000     88000.000000    1.000000\n",
       "max     60.000000    150000.000000    1.000000"
      ]
     },
     "execution_count": 5,
     "metadata": {},
     "output_type": "execute_result"
    }
   ],
   "source": [
    "df.describe(include='all')"
   ]
  },
  {
   "cell_type": "markdown",
   "metadata": {},
   "source": [
    "### Vérification des Valeurs Manquantes\n",
    "\n",
    "Pour assurer l'intégrité de notre analyse de données, il est crucial de vérifier l'existence de valeurs manquantes dans notre dataset. Les valeurs manquantes peuvent affecter la qualité des résultats analytiques et peuvent nécessiter un traitement spécifique tel que l'imputation ou la suppression des données manquantes. La commande suivante est utilisée pour détecter et compter les valeurs manquantes pour chaque colonne :\n",
    "\n",
    "- `df.isnull().sum()` : Cette fonction chaîne deux méthodes, `isnull()` et `sum()`. `isnull()` retourne un DataFrame où chaque cellule est soit True si la valeur est manquante, soit False si elle est présente. En ajoutant `sum()`, nous aggrégeons par colonne le nombre total de True valeurs, ce qui nous donne le compte exact de valeurs manquantes pour chaque attribut dans le DataFrame."
   ]
  },
  {
   "cell_type": "code",
   "execution_count": 6,
   "metadata": {},
   "outputs": [
    {
     "data": {
      "text/plain": [
       "Age                0\n",
       "EstimatedSalary    0\n",
       "Purchased          0\n",
       "dtype: int64"
      ]
     },
     "execution_count": 6,
     "metadata": {},
     "output_type": "execute_result"
    }
   ],
   "source": [
    "df.isnull().sum()"
   ]
  },
  {
   "cell_type": "markdown",
   "metadata": {},
   "source": [
    "### Gestion des Données Dupliquées\n",
    "\n",
    "La présence de lignes dupliquées dans un dataset peut être le résultat d'erreurs de collecte de données ou de fusion de sources de données multiples. Les doublons peuvent conduire à une distorsion des analyses statistiques et des modèles prédictifs. Pour gérer les doublons, nous procédons comme suit :\n",
    "\n",
    "1. Identification des doublons:\n",
    "   - `df.duplicated().sum()` : Cette commande nous permet de compter le nombre de cas où des lignes entières sont dupliquées.\n",
    "\n",
    "2. Traitement des doublons :\n",
    "   Si des doublons sont trouvés, nous pouvons les supprimer pour ne conserver que les données uniques. La méthode pour supprimer les doublons est `df.drop_duplicates()`, qui ne garde que la première occurrence de chaque ligne dupliquée."
   ]
  },
  {
   "cell_type": "code",
   "execution_count": 7,
   "metadata": {},
   "outputs": [
    {
     "name": "stdout",
     "output_type": "stream",
     "text": [
      "Il y a 33 lignes dupliquées.\n"
     ]
    }
   ],
   "source": [
    "# Comptez les doublons\n",
    "nombre_doublons = df.duplicated().sum()\n",
    "print(f'Il y a {nombre_doublons} lignes dupliquées.')"
   ]
  },
  {
   "cell_type": "code",
   "execution_count": 8,
   "metadata": {},
   "outputs": [
    {
     "name": "stdout",
     "output_type": "stream",
     "text": [
      "Les doublons ont été supprimés.\n"
     ]
    }
   ],
   "source": [
    "# Suppression des doublons, si nécessaire\n",
    "if nombre_doublons > 0:\n",
    "    df = df.drop_duplicates()\n",
    "    print('Les doublons ont été supprimés.')"
   ]
  },
  {
   "cell_type": "markdown",
   "metadata": {},
   "source": [
    "## Exploration des Données "
   ]
  },
  {
   "cell_type": "markdown",
   "metadata": {},
   "source": [
    "### Exploration de la Variable 'Purchased'\n",
    "\n",
    "Nous explorons la distribution de la variable cible `Purchased` dans le dataset pour comprendre la fréquence des achats effectués.\n",
    "\n",
    "- `df['Purchased'].value_counts()` : Cette commande nous donne le décompte des valeurs uniques dans la colonne `Purchased`, nous aidant à voir rapidement combien de clients ont effectué ou non un achat.\n",
    "\n",
    "- Visualisation avec un graphique à barres :\n",
    "   Nous utilisons `sns.countplot` pour créer un graphique à barres qui montre visuellement la répartition des achats. La taille du graphique est définie pour une bonne lisibilité, et la palette de couleurs 'tab10' est utilisée pour une distinction claire. Les titres et les étiquettes sont ajustés pour une meilleure compréhension du graphique."
   ]
  },
  {
   "cell_type": "code",
   "execution_count": 9,
   "metadata": {},
   "outputs": [
    {
     "data": {
      "text/plain": [
       "0    229\n",
       "1    138\n",
       "Name: Purchased, dtype: int64"
      ]
     },
     "execution_count": 9,
     "metadata": {},
     "output_type": "execute_result"
    }
   ],
   "source": [
    "df['Purchased'].value_counts()"
   ]
  },
  {
   "cell_type": "code",
   "execution_count": 10,
   "metadata": {},
   "outputs": [
    {
     "name": "stderr",
     "output_type": "stream",
     "text": [
      "C:\\Users\\Lenovo\\AppData\\Local\\Temp\\ipykernel_9780\\171582359.py:3: FutureWarning: \n",
      "\n",
      "Passing `palette` without assigning `hue` is deprecated and will be removed in v0.14.0. Assign the `x` variable to `hue` and set `legend=False` for the same effect.\n",
      "\n",
      "  sns.countplot(x='Purchased', data=df, palette='tab10')\n"
     ]
    },
    {
     "data": {
      "image/png": "[encoded data removed]",
      "text/plain": [
       "<Figure size 1400x600 with 1 Axes>"
      ]
     },
     "metadata": {},
     "output_type": "display_data"
    }
   ],
   "source": [
    "plt.figure(figsize=(14,6))\n",
    "sns.set_style('ticks') \n",
    "sns.countplot(x='Purchased', data=df, palette='tab10')\n",
    "plt.title('Nombre d\\'Achats par Catégorie', fontsize=16) \n",
    "plt.xlabel('Achat Effectué', fontsize=14)\n",
    "plt.ylabel('Nombre de Clients', fontsize=14)\n",
    "plt.xticks(fontsize=12)\n",
    "plt.yticks(fontsize=12) \n",
    "plt.show()"
   ]
  },
  {
   "cell_type": "markdown",
   "metadata": {},
   "source": [
    "### Exploration des Achats par Âge et Salaire\n",
    "\n",
    "Ce graphique explore l'influence de l'âge et du salaire sur la probabilité d'achat, avec :\n",
    "\n",
    "- L'âge sur l'axe horizontal et le salaire estimé sur le vertical.\n",
    "- Des points colorés selon que le client a réalisé un achat ou non, facilitant l'identification des modèles de comportement.\n",
    "- Titres et légendes détaillés améliorent la clarté et la compréhension des données présentées."
   ]
  },
  {
   "cell_type": "code",
   "execution_count": 11,
   "metadata": {},
   "outputs": [
    {
     "data": {
      "image/png": "[encoded data removed]",
      "text/plain": [
       "<Figure size 640x480 with 1 Axes>"
      ]
     },
     "metadata": {},
     "output_type": "display_data"
    }
   ],
   "source": [
    "# Scatter plot avec 'Age' sur l'axe des x, 'EstimatedSalary' sur l'axe des y\n",
    "# et la colonne 'Purchased' comme hue pour différencier les points\n",
    "sns.scatterplot(x='Age', y='EstimatedSalary', hue='Purchased', data=df, palette='coolwarm')\n",
    "plt.title('Répartition des Achats par Âge et Salaire Estimé')\n",
    "plt.xlabel('Âge')\n",
    "plt.ylabel('Salaire Estimé')\n",
    "plt.legend(title='Achat Effectué')\n",
    "plt.show()"
   ]
  },
  {
   "cell_type": "markdown",
   "metadata": {},
   "source": [
    "### Visualisation des Corrélations entre Caractéristiques\r\n",
    "\r\n",
    "Affiche la corrélation entre les variables du dataset avec une heatmap, mettant en évidence la relation linéaire entre chaque paire de caractéristiques. \r\n",
    "\r\n",
    "- `corr = df.corr()` calcule les coefficients de corrélation.\r\n",
    "- La visualisation via `sns.heatmap` illustre ces corrélations avec des couleurs pour indiquer l'intensité et des annotations pour les valeurs exactes, rendant les tendances immédiatement apparentes.\r\n"
   ]
  },
  {
   "cell_type": "code",
   "execution_count": 12,
   "metadata": {},
   "outputs": [
    {
     "data": {
      "text/html": [
       "<div>\n",
       "<style scoped>\n",
       "    .dataframe tbody tr th:only-of-type {\n",
       "        vertical-align: middle;\n",
       "    }\n",
       "\n",
       "    .dataframe tbody tr th {\n",
       "        vertical-align: top;\n",
       "    }\n",
       "\n",
       "    .dataframe thead th {\n",
       "        text-align: right;\n",
       "    }\n",
       "</style>\n",
       "<table border=\"1\" class=\"dataframe\">\n",
       "  <thead>\n",
       "    <tr style=\"text-align: right;\">\n",
       "      <th></th>\n",
       "      <th>Age</th>\n",
       "      <th>EstimatedSalary</th>\n",
       "      <th>Purchased</th>\n",
       "    </tr>\n",
       "  </thead>\n",
       "  <tbody>\n",
       "    <tr>\n",
       "      <th>Age</th>\n",
       "      <td>1.000000</td>\n",
       "      <td>0.167771</td>\n",
       "      <td>0.626164</td>\n",
       "    </tr>\n",
       "    <tr>\n",
       "      <th>EstimatedSalary</th>\n",
       "      <td>0.167771</td>\n",
       "      <td>1.000000</td>\n",
       "      <td>0.375624</td>\n",
       "    </tr>\n",
       "    <tr>\n",
       "      <th>Purchased</th>\n",
       "      <td>0.626164</td>\n",
       "      <td>0.375624</td>\n",
       "      <td>1.000000</td>\n",
       "    </tr>\n",
       "  </tbody>\n",
       "</table>\n",
       "</div>"
      ],
      "text/plain": [
       "                      Age  EstimatedSalary  Purchased\n",
       "Age              1.000000         0.167771   0.626164\n",
       "EstimatedSalary  0.167771         1.000000   0.375624\n",
       "Purchased        0.626164         0.375624   1.000000"
      ]
     },
     "execution_count": 12,
     "metadata": {},
     "output_type": "execute_result"
    }
   ],
   "source": [
    "corr = df.corr()\n",
    "corr"
   ]
  },
  {
   "cell_type": "code",
   "execution_count": 13,
   "metadata": {},
   "outputs": [
    {
     "data": {
      "image/png": "[encoded data removed]",
      "text/plain": [
       "<Figure size 640x480 with 2 Axes>"
      ]
     },
     "metadata": {},
     "output_type": "display_data"
    }
   ],
   "source": [
    "# Heatmap des corrélations\n",
    "sns.heatmap(corr, annot=True, cmap='coolwarm', fmt=\".2f\")\n",
    "plt.title('Matrice de Corrélation des Caractéristiques')\n",
    "plt.show()"
   ]
  },
  {
   "cell_type": "markdown",
   "metadata": {},
   "source": [
    "##  Prétraitement et Normalisation des Données pour l'Apprentissage Automatique"
   ]
  },
  {
   "cell_type": "markdown",
   "metadata": {},
   "source": [
    "### Préparation des Données pour l'Entraînement et le Test\n",
    "\n",
    "Afin de préparer notre modèle d'apprentissage automatique, nous divisons nos données en ensembles d'entraînement et de test. Cette étape est cruciale pour évaluer la performance du modèle sur des données non vues.\n",
    "\n",
    "- **Sélection des Caractéristiques et de la Variable Cible** :\n",
    "  - `X` contient toutes les caractéristiques indépendantes, sélectionnées à partir de toutes les colonnes sauf la dernière du dataset.\n",
    "  - `y` représente la variable cible, extraite de la dernière colonne du dataset.\n",
    "\n",
    "- **Division en Ensembles d'Entraînement et de Test** :\n",
    "  - Utilisation de `train_test_split` avec un `test_size` de 0.25 pour allouer 25% des données au test et le reste à l'entraînement.\n",
    "  - `random_state` est fixé pour assurer la reproductibilité des résultats lors de divisions successives.\n",
    "\n",
    "Ces ensembles nous permettront d'entraîner notre modèle et d'évaluer sa capacité à généraliser sur de nouvelles données.\n"
   ]
  },
  {
   "cell_type": "code",
   "execution_count": 15,
   "metadata": {},
   "outputs": [],
   "source": [
    "X = df.iloc[:, :-1].values\n",
    "y = df.iloc[:, -1].values"
   ]
  },
  {
   "cell_type": "code",
   "execution_count": 16,
   "metadata": {
    "colab": {},
    "colab_type": "code",
    "id": "AVzJWAXIhxoC"
   },
   "outputs": [],
   "source": [
    "X_train, X_test, y_train, y_test = train_test_split(X, y, test_size = 0.25, random_state = 0)"
   ]
  },
  {
   "cell_type": "markdown",
   "metadata": {},
   "source": [
    "### Normalisation des Caractéristiques\n",
    "\n",
    "Afin d'améliorer la performance et la stabilité de notre modèle d'apprentissage automatique, nous normalisons les caractéristiques d'entrée. Cette étape est essentielle lorsque les variables d'entrée ont des gammes de valeurs très différentes.\n",
    "\n",
    "- **Utilisation de `StandardScaler`** :\n",
    "  - `StandardScaler` transforme chaque caractéristique en ayant une moyenne de 0 et un écart type de 1, rendant les données plus homogènes et facilitant l'apprentissage du modèle.\n",
    "  \n",
    "- **Application au jeu de données** :\n",
    "  - La méthode `fit_transform` est appliquée sur `X_train` pour calculer les paramètres de normalisation (moyenne et écart type) et les appliquer, tandis que `transform` est utilisé sur `X_test` pour appliquer ces mêmes paramètres. Cela garantit que les transformations sont cohérentes entre les ensembles d'entraînement et de test.\n",
    "\n",
    "Cette normalisation aide à prévenir les biais dans l'entraînement du modèle dus à l'échelle des caractéristiques et améliore généralement les résultats de l'apprentissage.\n"
   ]
  },
  {
   "cell_type": "code",
   "execution_count": 17,
   "metadata": {
    "colab": {},
    "colab_type": "code",
    "id": "9fQlDPKCh8sc"
   },
   "outputs": [],
   "source": [
    "sc = StandardScaler()\n",
    "X_train = sc.fit_transform(X_train)\n",
    "X_test = sc.transform(X_test)"
   ]
  },
  {
   "cell_type": "code",
   "execution_count": 18,
   "metadata": {
    "colab": {
     "base_uri": "https://localhost:8080/",
     "height": 1000
    },
    "colab_type": "code",
    "executionInfo": {
     "elapsed": 1585,
     "status": "ok",
     "timestamp": 1588267336180,
     "user": {
      "displayName": "Hadelin de Ponteves",
      "photoUrl": "https://lh3.googleusercontent.com/a-/AOh14GhEuXdT7eQweUmRPW8_laJuPggSK6hfvpl5a6WBaA=s64",
      "userId": "15047218817161520419"
     },
     "user_tz": -240
    },
    "id": "syrnD1Op2BSR",
    "outputId": "cd5ad357-7763-4894-d894-76fbe781fcd8",
    "scrolled": true
   },
   "outputs": [
    {
     "name": "stdout",
     "output_type": "stream",
     "text": [
      "[[ 1.98405766  2.09225669]\n",
      " [ 1.13857854  0.50879998]\n",
      " [ 1.32646279  2.29378754]\n",
      " [-0.27055332 -0.32611356]\n",
      " [-0.08266907  0.04815802]\n",
      " [-1.49180093 -0.21095308]\n",
      " [-1.7736273   0.42242961]\n",
      " [-1.67968518  0.45121973]\n",
      " [ 1.79617341 -1.07465674]\n",
      " [-1.86756942  0.45121973]\n",
      " [ 1.51434704  0.96944193]\n",
      " [-0.55237969  1.34371352]\n",
      " [ 0.66886792 -1.27618759]\n",
      " [ 0.1991573   0.04815802]\n",
      " [-0.64632181  0.16331851]\n",
      " [ 0.01127305 -0.15337283]\n",
      " [ 0.29309943 -0.52764442]\n",
      " [ 0.38704155  0.278479  ]\n",
      " [-1.11603243  0.45121973]\n",
      " [ 1.04463642 -0.90191601]\n",
      " [ 0.76281005 -1.39134808]\n",
      " [-0.08266907  0.24968888]\n",
      " [-0.08266907 -0.2397432 ]\n",
      " [-0.45843756 -0.84433576]\n",
      " [ 1.32646279  1.94830608]\n",
      " [-0.83420606  0.13452839]\n",
      " [ 0.76281005  0.33605924]\n",
      " [-0.74026394 -0.2397432 ]\n",
      " [-0.27055332 -1.44892833]\n",
      " [-0.55237969  0.85428144]\n",
      " [-1.20997456 -1.07465674]\n",
      " [ 0.95069429  2.03467645]\n",
      " [ 0.95069429  0.56638022]\n",
      " [-0.08266907 -1.07465674]\n",
      " [-0.45843756 -1.13223698]\n",
      " [-0.08266907  1.91951596]\n",
      " [-1.7736273  -1.30497772]\n",
      " [ 1.04463642  0.5375901 ]\n",
      " [ 0.10521518  1.02702217]\n",
      " [-1.02209031  0.56638022]\n",
      " [ 1.98405766  1.7179851 ]\n",
      " [-0.27055332 -1.24739747]\n",
      " [ 1.04463642 -0.98828637]\n",
      " [-0.55237969  0.45121973]\n",
      " [-0.27055332 -0.58522466]\n",
      " [-0.17661119  1.60282461]\n",
      " [ 0.1991573  -0.15337283]\n",
      " [-0.83420606 -0.67159503]\n",
      " [ 0.95069429 -1.01707649]\n",
      " [-0.74026394  0.24968888]\n",
      " [-1.3978588  -1.21860735]\n",
      " [-0.08266907 -0.44127405]\n",
      " [-1.02209031 -0.47006418]\n",
      " [ 0.29309943 -0.29732344]\n",
      " [-0.92814818 -1.10344686]\n",
      " [-1.86756942 -0.52764442]\n",
      " [-0.74026394  0.5375901 ]\n",
      " [ 0.38704155 -0.4988543 ]\n",
      " [-0.36449544  0.04815802]\n",
      " [ 0.95069429  0.10573827]\n",
      " [-0.64632181  0.10573827]\n",
      " [ 1.13857854 -0.98828637]\n",
      " [ 0.38704155  1.08460242]\n",
      " [ 0.66886792 -1.10344686]\n",
      " [ 0.85675217  0.99823205]\n",
      " [-0.83420606 -0.78675552]\n",
      " [ 0.29309943  0.04815802]\n",
      " [-0.45843756 -0.78675552]\n",
      " [-0.27055332 -0.93070613]\n",
      " [-1.30391668 -1.36255796]\n",
      " [-0.36449544 -1.30497772]\n",
      " [ 1.04463642  0.10573827]\n",
      " [-0.17661119 -0.21095308]\n",
      " [ 1.60828916  1.57403449]\n",
      " [ 0.48098367  1.80435547]\n",
      " [-0.45843756 -1.21860735]\n",
      " [ 1.70223129  0.96944193]\n",
      " [ 1.70223129  1.80435547]\n",
      " [ 1.79617341  1.48766413]\n",
      " [ 0.5749258  -0.90191601]\n",
      " [-1.3978588  -1.44892833]\n",
      " [ 0.85675217 -1.04586662]\n",
      " [-0.92814818 -0.44127405]\n",
      " [-0.27055332  0.07694814]\n",
      " [-0.27055332  0.13452839]\n",
      " [-0.36449544 -0.78675552]\n",
      " [ 0.85675217  2.12104681]\n",
      " [-0.08266907  0.278479  ]\n",
      " [ 0.76281005 -1.21860735]\n",
      " [ 0.01127305  0.0193679 ]\n",
      " [-1.67968518 -0.61401479]\n",
      " [ 1.42040491  0.04815802]\n",
      " [-0.45843756  1.22855303]\n",
      " [ 0.01127305 -0.32611356]\n",
      " [ 0.85675217  1.0558123 ]\n",
      " [ 0.95069429 -1.07465674]\n",
      " [ 1.32646279  1.25734315]\n",
      " [-0.27055332  0.0193679 ]\n",
      " [ 0.10521518 -0.32611356]\n",
      " [-0.83420606  2.2362073 ]\n",
      " [-0.92814818  0.42242961]\n",
      " [-0.27055332 -0.90191601]\n",
      " [ 1.13857854 -1.44892833]\n",
      " [-0.27055332 -0.4988543 ]\n",
      " [ 1.51434704 -0.00942222]\n",
      " [-0.08266907 -0.52764442]\n",
      " [ 2.07799978 -0.70038515]\n",
      " [ 0.1991573  -0.38369381]\n",
      " [ 0.76281005 -0.32611356]\n",
      " [-0.45843756 -0.03821234]\n",
      " [-0.55237969  1.86193571]\n",
      " [ 0.85675217 -1.30497772]\n",
      " [ 0.95069429  1.83314559]\n",
      " [-0.92814818  0.48000985]\n",
      " [ 0.38704155  0.278479  ]\n",
      " [-0.27055332 -0.44127405]\n",
      " [ 1.04463642 -0.15337283]\n",
      " [ 1.98405766  0.16331851]\n",
      " [-1.30391668  0.5375901 ]\n",
      " [ 0.66886792 -0.72917527]\n",
      " [-1.7736273   0.16331851]\n",
      " [-0.92814818 -0.32611356]\n",
      " [-1.86756942  0.33605924]\n",
      " [-0.55237969  1.43008388]\n",
      " [-0.64632181 -0.06700247]\n",
      " [ 0.10521518  1.48766413]\n",
      " [ 0.85675217 -0.67159503]\n",
      " [-1.20997456  0.56638022]\n",
      " [ 0.76281005  0.24968888]\n",
      " [ 0.76281005  1.34371352]\n",
      " [ 1.70223129 -0.29732344]\n",
      " [ 0.76281005  0.50879998]\n",
      " [-0.45843756 -0.55643454]\n",
      " [-0.17661119 -0.52764442]\n",
      " [-0.55237969 -1.50650857]\n",
      " [ 0.01127305 -0.26853332]\n",
      " [ 1.42040491  2.09225669]\n",
      " [ 0.48098367  1.19976291]\n",
      " [-1.02209031 -0.38369381]\n",
      " [-0.08266907  0.10573827]\n",
      " [-0.64632181 -0.35490369]\n",
      " [ 0.85675217 -1.44892833]\n",
      " [-1.02209031  1.91951596]\n",
      " [-0.74026394  0.278479  ]\n",
      " [ 1.23252067  2.17862706]\n",
      " [-0.27055332 -1.39134808]\n",
      " [-1.7736273  -0.00942222]\n",
      " [ 1.98405766 -1.18981723]\n",
      " [-0.08266907  0.19210863]\n",
      " [ 0.76281005 -1.10344686]\n",
      " [ 0.95069429 -1.18981723]\n",
      " [-0.17661119 -0.47006418]\n",
      " [ 1.89011553 -1.36255796]\n",
      " [-1.30391668  0.39363949]\n",
      " [ 0.10521518  0.19210863]\n",
      " [-0.27055332  0.50879998]\n",
      " [-0.83420606  0.36484937]\n",
      " [-1.11603243 -0.78675552]\n",
      " [-1.11603243 -0.52764442]\n",
      " [ 0.01127305  0.278479  ]\n",
      " [-0.08266907  0.22089875]\n",
      " [-1.49180093  0.30726912]\n",
      " [-1.11603243  0.278479  ]\n",
      " [-0.74026394 -0.61401479]\n",
      " [ 0.29309943  0.48000985]\n",
      " [-1.02209031 -1.44892833]\n",
      " [-0.27055332  1.08460242]\n",
      " [-1.86756942 -0.7579654 ]\n",
      " [ 0.29309943  0.278479  ]\n",
      " [-0.08266907 -0.38369381]\n",
      " [ 1.23252067  1.83314559]\n",
      " [ 1.42040491  0.33605924]\n",
      " [-0.74026394 -1.53529869]\n",
      " [ 0.01127305  1.19976291]\n",
      " [ 1.98405766  0.36484937]\n",
      " [-0.27055332 -0.38369381]\n",
      " [-1.3978588  -0.21095308]\n",
      " [-1.67968518 -0.98828637]\n",
      " [ 0.76281005 -1.36255796]\n",
      " [-0.92814818  0.39363949]\n",
      " [-1.7736273  -1.47771845]\n",
      " [ 1.98405766 -0.81554564]\n",
      " [ 0.01127305 -0.55643454]\n",
      " [-0.45843756  2.26499742]\n",
      " [-0.64632181 -0.12458271]\n",
      " [ 1.79617341 -1.27618759]\n",
      " [-0.92814818 -0.95949625]\n",
      " [ 0.38704155  0.24968888]\n",
      " [-1.02209031  0.50879998]\n",
      " [ 0.85675217 -0.55643454]\n",
      " [-0.27055332 -0.67159503]\n",
      " [-1.30391668 -1.24739747]\n",
      " [-0.64632181  0.5375901 ]\n",
      " [ 0.76281005  0.73912095]\n",
      " [ 0.66886792  0.24968888]\n",
      " [ 0.38704155  2.26499742]\n",
      " [-0.64632181 -1.59287894]\n",
      " [-1.67968518  0.10573827]\n",
      " [-0.27055332  0.04815802]\n",
      " [-1.67968518  0.33605924]\n",
      " [ 0.01127305  1.22855303]\n",
      " [-0.17661119 -1.07465674]\n",
      " [ 1.98405766  0.50879998]\n",
      " [ 0.85675217 -0.78675552]\n",
      " [-1.11603243  0.30726912]\n",
      " [ 0.38704155 -0.15337283]\n",
      " [ 1.89011553  2.12104681]\n",
      " [ 1.42040491 -1.04586662]\n",
      " [-0.27055332 -1.30497772]\n",
      " [-0.64632181  1.37250364]\n",
      " [-0.08266907  0.65275059]\n",
      " [ 0.29309943 -0.55643454]\n",
      " [ 0.38704155 -0.00942222]\n",
      " [-0.55237969  1.34371352]\n",
      " [ 1.79617341  0.10573827]\n",
      " [ 0.76281005 -0.84433576]\n",
      " [-0.74026394 -1.59287894]\n",
      " [ 0.10521518  0.0193679 ]\n",
      " [ 1.60828916 -0.90191601]\n",
      " [ 0.29309943 -0.21095308]\n",
      " [-1.02209031 -1.13223698]\n",
      " [-1.30391668 -0.44127405]\n",
      " [ 0.01127305 -0.44127405]\n",
      " [-1.58574305 -0.06700247]\n",
      " [ 0.01127305 -0.58522466]\n",
      " [-0.64632181 -1.50650857]\n",
      " [-1.7736273  -1.27618759]\n",
      " [-1.58574305  0.50879998]\n",
      " [-1.11603243 -1.16102711]\n",
      " [-0.27055332  0.19210863]\n",
      " [-0.27055332 -0.35490369]\n",
      " [-1.58574305 -1.56408881]\n",
      " [-0.92814818 -0.7579654 ]\n",
      " [-0.74026394  0.48000985]\n",
      " [-0.92814818  0.5375901 ]\n",
      " [ 1.89011553 -0.67159503]\n",
      " [ 0.85675217  1.22855303]\n",
      " [ 2.07799978 -1.04586662]\n",
      " [ 0.1991573  -0.67159503]\n",
      " [ 0.1991573  -0.29732344]\n",
      " [ 0.10521518  0.07694814]\n",
      " [-0.45843756 -0.29732344]\n",
      " [-1.7736273  -1.4201382 ]\n",
      " [ 0.85675217 -0.58522466]\n",
      " [ 0.1991573   2.06346657]\n",
      " [ 0.66886792  1.74677523]\n",
      " [-0.17661119  0.13452839]\n",
      " [ 1.32646279 -1.4201382 ]\n",
      " [-0.36449544  1.19976291]\n",
      " [ 0.48098367  1.68919498]\n",
      " [ 1.04463642 -1.21860735]\n",
      " [-1.11603243  1.37250364]\n",
      " [ 0.38704155  0.96944193]\n",
      " [ 0.38704155 -0.18216295]\n",
      " [-0.64632181  0.0193679 ]\n",
      " [ 0.5749258   1.9770962 ]\n",
      " [-1.02209031 -1.53529869]\n",
      " [ 1.89011553  0.88307156]\n",
      " [-0.27055332  0.24968888]\n",
      " [-1.11603243 -1.59287894]\n",
      " [-1.67968518 -1.36255796]\n",
      " [-0.74026394  1.31492339]\n",
      " [ 0.10521518  0.73912095]\n",
      " [ 1.89011553  0.71033083]\n",
      " [ 0.38704155  0.07694814]\n",
      " [-0.08266907  2.12104681]\n",
      " [-0.27055332 -0.15337283]\n",
      " [ 0.85675217 -1.36255796]\n",
      " [ 1.60828916  1.7179851 ]\n",
      " [ 0.1991573  -0.26853332]\n",
      " [ 1.51434704  1.08460242]\n",
      " [ 0.29309943  0.0193679 ]\n",
      " [ 0.1991573   0.13452839]\n",
      " [-0.74026394  1.86193571]\n",
      " [-0.64632181 -1.04586662]]\n"
     ]
    }
   ],
   "source": [
    "print(X_train)"
   ]
  },
  {
   "cell_type": "markdown",
   "metadata": {},
   "source": [
    "### Modélisation avec Support Vector Machine (SVM)\n",
    "\n",
    "Après la préparation et la normalisation de nos données, nous passons à l'étape de modélisation. Ici, nous utilisons un Support Vector Machine (SVM) avec un noyau linéaire pour classifier nos données.\n",
    "\n",
    "- **Initialisation du classificateur SVM** :\n",
    "  - `SVC(kernel = 'linear', random_state = 0)` crée une instance du classificateur SVM avec un noyau linéaire. Le paramètre `random_state` est fixé pour assurer la reproductibilité des résultats.\n",
    "\n",
    "- **Entraînement du modèle** :\n",
    "  - La méthode `fit` est appelée sur notre classificateur en lui passant les ensembles d'entraînement `X_train` et `y_train`. Cela permet au modèle d'apprendre à distinguer les différentes classes de notre variable cible à partir des caractéristiques fournies.\n",
    "\n",
    "Cette étape est cruciale pour construire un modèle capable de prédire efficacement la classe de nouvelles observations.\n"
   ]
  },
  {
   "cell_type": "code",
   "execution_count": 19,
   "metadata": {
    "colab": {
     "base_uri": "https://localhost:8080/",
     "height": 86
    },
    "colab_type": "code",
    "executionInfo": {
     "elapsed": 1578,
     "status": "ok",
     "timestamp": 1588267336181,
     "user": {
      "displayName": "Hadelin de Ponteves",
      "photoUrl": "https://lh3.googleusercontent.com/a-/AOh14GhEuXdT7eQweUmRPW8_laJuPggSK6hfvpl5a6WBaA=s64",
      "userId": "15047218817161520419"
     },
     "user_tz": -240
    },
    "id": "e0pFVAmciHQs",
    "outputId": "2456d6a2-0437-42b3-fbe1-e75a23b26148"
   },
   "outputs": [
    {
     "data": {
      "text/html": [
       "<style>#sk-container-id-1 {color: black;background-color: white;}#sk-container-id-1 pre{padding: 0;}#sk-container-id-1 div.sk-toggleable {background-color: white;}#sk-container-id-1 label.sk-toggleable__label {cursor: pointer;display: block;width: 100%;margin-bottom: 0;padding: 0.3em;box-sizing: border-box;text-align: center;}#sk-container-id-1 label.sk-toggleable__label-arrow:before {content: \"▸\";float: left;margin-right: 0.25em;color: #696969;}#sk-container-id-1 label.sk-toggleable__label-arrow:hover:before {color: black;}#sk-container-id-1 div.sk-estimator:hover label.sk-toggleable__label-arrow:before {color: black;}#sk-container-id-1 div.sk-toggleable__content {max-height: 0;max-width: 0;overflow: hidden;text-align: left;background-color: #f0f8ff;}#sk-container-id-1 div.sk-toggleable__content pre {margin: 0.2em;color: black;border-radius: 0.25em;background-color: #f0f8ff;}#sk-container-id-1 input.sk-toggleable__control:checked~div.sk-toggleable__content {max-height: 200px;max-width: 100%;overflow: auto;}#sk-container-id-1 input.sk-toggleable__control:checked~label.sk-toggleable__label-arrow:before {content: \"▾\";}#sk-container-id-1 div.sk-estimator input.sk-toggleable__control:checked~label.sk-toggleable__label {background-color: #d4ebff;}#sk-container-id-1 div.sk-label input.sk-toggleable__control:checked~label.sk-toggleable__label {background-color: #d4ebff;}#sk-container-id-1 input.sk-hidden--visually {border: 0;clip: rect(1px 1px 1px 1px);clip: rect(1px, 1px, 1px, 1px);height: 1px;margin: -1px;overflow: hidden;padding: 0;position: absolute;width: 1px;}#sk-container-id-1 div.sk-estimator {font-family: monospace;background-color: #f0f8ff;border: 1px dotted black;border-radius: 0.25em;box-sizing: border-box;margin-bottom: 0.5em;}#sk-container-id-1 div.sk-estimator:hover {background-color: #d4ebff;}#sk-container-id-1 div.sk-parallel-item::after {content: \"\";width: 100%;border-bottom: 1px solid gray;flex-grow: 1;}#sk-container-id-1 div.sk-label:hover label.sk-toggleable__label {background-color: #d4ebff;}#sk-container-id-1 div.sk-serial::before {content: \"\";position: absolute;border-left: 1px solid gray;box-sizing: border-box;top: 0;bottom: 0;left: 50%;z-index: 0;}#sk-container-id-1 div.sk-serial {display: flex;flex-direction: column;align-items: center;background-color: white;padding-right: 0.2em;padding-left: 0.2em;position: relative;}#sk-container-id-1 div.sk-item {position: relative;z-index: 1;}#sk-container-id-1 div.sk-parallel {display: flex;align-items: stretch;justify-content: center;background-color: white;position: relative;}#sk-container-id-1 div.sk-item::before, #sk-container-id-1 div.sk-parallel-item::before {content: \"\";position: absolute;border-left: 1px solid gray;box-sizing: border-box;top: 0;bottom: 0;left: 50%;z-index: -1;}#sk-container-id-1 div.sk-parallel-item {display: flex;flex-direction: column;z-index: 1;position: relative;background-color: white;}#sk-container-id-1 div.sk-parallel-item:first-child::after {align-self: flex-end;width: 50%;}#sk-container-id-1 div.sk-parallel-item:last-child::after {align-self: flex-start;width: 50%;}#sk-container-id-1 div.sk-parallel-item:only-child::after {width: 0;}#sk-container-id-1 div.sk-dashed-wrapped {border: 1px dashed gray;margin: 0 0.4em 0.5em 0.4em;box-sizing: border-box;padding-bottom: 0.4em;background-color: white;}#sk-container-id-1 div.sk-label label {font-family: monospace;font-weight: bold;display: inline-block;line-height: 1.2em;}#sk-container-id-1 div.sk-label-container {text-align: center;}#sk-container-id-1 div.sk-container {/* jupyter's `normalize.less` sets `[hidden] { display: none; }` but bootstrap.min.css set `[hidden] { display: none !important; }` so we also need the `!important` here to be able to override the default hidden behavior on the sphinx rendered scikit-learn.org. See: https://github.com/scikit-learn/scikit-learn/issues/21755 */display: inline-block !important;position: relative;}#sk-container-id-1 div.sk-text-repr-fallback {display: none;}</style><div id=\"sk-container-id-1\" class=\"sk-top-container\"><div class=\"sk-text-repr-fallback\"><pre>SVC(kernel=&#x27;linear&#x27;, random_state=0)</pre><b>In a Jupyter environment, please rerun this cell to show the HTML representation or trust the notebook. <br />On GitHub, the HTML representation is unable to render, please try loading this page with nbviewer.org.</b></div><div class=\"sk-container\" hidden><div class=\"sk-item\"><div class=\"sk-estimator sk-toggleable\"><input class=\"sk-toggleable__control sk-hidden--visually\" id=\"sk-estimator-id-1\" type=\"checkbox\" checked><label for=\"sk-estimator-id-1\" class=\"sk-toggleable__label sk-toggleable__label-arrow\">SVC</label><div class=\"sk-toggleable__content\"><pre>SVC(kernel=&#x27;linear&#x27;, random_state=0)</pre></div></div></div></div></div>"
      ],
      "text/plain": [
       "SVC(kernel='linear', random_state=0)"
      ]
     },
     "execution_count": 19,
     "metadata": {},
     "output_type": "execute_result"
    }
   ],
   "source": [
    "from sklearn.svm import SVC\n",
    "classifier = SVC(kernel = 'linear', random_state = 0)\n",
    "classifier.fit(X_train, y_train)"
   ]
  },
  {
   "cell_type": "markdown",
   "metadata": {},
   "source": [
    "### Prédiction sur l'Ensemble de Test\n",
    "\n",
    "Utilisation de `classifier.predict(X_test)` pour obtenir les prédictions `y_pred` du modèle SVM sur l'ensemble de test."
   ]
  },
  {
   "cell_type": "code",
   "execution_count": 20,
   "metadata": {
    "colab": {
     "base_uri": "https://localhost:8080/",
     "height": 1000
    },
    "colab_type": "code",
    "executionInfo": {
     "elapsed": 1569,
     "status": "ok",
     "timestamp": 1588267336182,
     "user": {
      "displayName": "Hadelin de Ponteves",
      "photoUrl": "https://lh3.googleusercontent.com/a-/AOh14GhEuXdT7eQweUmRPW8_laJuPggSK6hfvpl5a6WBaA=s64",
      "userId": "15047218817161520419"
     },
     "user_tz": -240
    },
    "id": "p6VMTb2O4hwM",
    "outputId": "3621a714-16d0-4c4a-dfc1-ae223f3cfc1d",
    "scrolled": true
   },
   "outputs": [],
   "source": [
    "y_pred = classifier.predict(X_test)"
   ]
  },
  {
   "cell_type": "markdown",
   "metadata": {},
   "source": [
    "## Évaluation du Modèle"
   ]
  },
  {
   "cell_type": "markdown",
   "metadata": {},
   "source": [
    "### Précision du Modèle\n",
    "\n",
    "Calcul et affichage de la précision avec `accuracy_score(y_test, y_pred)`."
   ]
  },
  {
   "cell_type": "code",
   "execution_count": 21,
   "metadata": {},
   "outputs": [
    {
     "name": "stdout",
     "output_type": "stream",
     "text": [
      "Accuracy: 0.8260869565217391\n"
     ]
    }
   ],
   "source": [
    "accuracy = accuracy_score(y_test, y_pred)\n",
    "print(\"Accuracy:\", accuracy)"
   ]
  },
  {
   "cell_type": "markdown",
   "metadata": {},
   "source": [
    "### Rapport de Classification\n",
    "\n",
    "Affichage du rapport de classification pour évaluer la performance détaillée du modèle."
   ]
  },
  {
   "cell_type": "code",
   "execution_count": 22,
   "metadata": {},
   "outputs": [
    {
     "name": "stdout",
     "output_type": "stream",
     "text": [
      "Classification report :\n",
      "\n",
      "\n",
      "              precision    recall  f1-score   support\n",
      "\n",
      "           0       0.78      0.96      0.86        51\n",
      "           1       0.93      0.66      0.77        41\n",
      "\n",
      "    accuracy                           0.83        92\n",
      "   macro avg       0.85      0.81      0.82        92\n",
      "weighted avg       0.85      0.83      0.82        92\n",
      "\n"
     ]
    }
   ],
   "source": [
    "print ('Classification report :')\n",
    "print('\\n')\n",
    "print(classification_report(y_test,y_pred))"
   ]
  },
  {
   "cell_type": "markdown",
   "metadata": {},
   "source": [
    "### Matrice de Confusion\n",
    "\n",
    "Génération et affichage de la matrice de confusion pour visualiser les performances du modèle.\n"
   ]
  },
  {
   "cell_type": "code",
   "execution_count": 23,
   "metadata": {
    "colab": {
     "base_uri": "https://localhost:8080/",
     "height": 68
    },
    "colab_type": "code",
    "executionInfo": {
     "elapsed": 1563,
     "status": "ok",
     "timestamp": 1588267336182,
     "user": {
      "displayName": "Hadelin de Ponteves",
      "photoUrl": "https://lh3.googleusercontent.com/a-/AOh14GhEuXdT7eQweUmRPW8_laJuPggSK6hfvpl5a6WBaA=s64",
      "userId": "15047218817161520419"
     },
     "user_tz": -240
    },
    "id": "D6bpZwUiiXic",
    "outputId": "f72110a8-b97b-43e8-9adf-14673886ccab"
   },
   "outputs": [
    {
     "name": "stdout",
     "output_type": "stream",
     "text": [
      "[[49  2]\n",
      " [14 27]]\n"
     ]
    }
   ],
   "source": [
    "cm = confusion_matrix(y_test, y_pred)\n",
    "print(cm)"
   ]
  },
  {
   "cell_type": "markdown",
   "metadata": {},
   "source": [
    "### Visualisation de la Matrice de Confusion\n",
    "\n",
    "Affiche la matrice de confusion du SVM linéaire avec `ConfusionMatrixDisplay`. Style défini sur 'ticks' pour une meilleure lisibilité.\n"
   ]
  },
  {
   "cell_type": "code",
   "execution_count": 24,
   "metadata": {},
   "outputs": [
    {
     "data": {
      "image/png": "[encoded data removed]",
      "text/plain": [
       "<Figure size 640x480 with 2 Axes>"
      ]
     },
     "metadata": {},
     "output_type": "display_data"
    }
   ],
   "source": [
    "sns.set_style('ticks')\n",
    "ConfusionMatrixDisplay(cm).plot()\n",
    "plt.title(\"Confusion Matrix for Linear SVM\")\n",
    "plt.show()"
   ]
  },
  {
   "cell_type": "markdown",
   "metadata": {},
   "source": [
    "## Prédiction pour un Nouvel Échantillon\n",
    "\n",
    "Ce code illustre comment faire une prédiction avec le modèle SVM linéaire pour une nouvelle observation. L'observation, représentant une personne de 30 ans avec un salaire estimé de 87,000, est d'abord normalisée à l'aide de `sc.transform` avant d'être passée à `classifier.predict` pour la prédiction.\n",
    "\n",
    "- La nouvelle observation est : `[30, 87000]`.\n",
    "- `sc.transform([[30,87000]])` : Applique la normalisation.\n",
    "- `classifier.predict(...)`: Effectue la prédiction sur les données normalisées.\n"
   ]
  },
  {
   "cell_type": "code",
   "execution_count": 25,
   "metadata": {},
   "outputs": [
    {
     "name": "stdout",
     "output_type": "stream",
     "text": [
      "[0]\n"
     ]
    }
   ],
   "source": [
    "print(classifier.predict(sc.transform([[30,87000]])))"
   ]
  },
  {
   "cell_type": "code",
   "execution_count": null,
   "metadata": {},
   "outputs": [],
   "source": []
  }
 ],
 "metadata": {
  "colab": {
   "authorship_tag": "ABX9TyMH6PiqxoH4J/SZjlaPzxhf",
   "collapsed_sections": [],
   "machine_shape": "hm",
   "name": "support_vector_machine.ipynb",
   "provenance": [],
   "toc_visible": true
  },
  "kernelspec": {
   "display_name": "Python 3 (ipykernel)",
   "language": "python",
   "name": "python3"
  },
  "language_info": {
   "codemirror_mode": {
    "name": "ipython",
    "version": 3
   },
   "file_extension": ".py",
   "mimetype": "text/x-python",
   "name": "python",
   "nbconvert_exporter": "python",
   "pygments_lexer": "ipython3",
   "version": "3.8.0"
  }
 },
 "nbformat": 4,
 "nbformat_minor": 4
}
